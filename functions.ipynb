{
 "cells": [
  {
   "cell_type": "markdown",
   "id": "983255b3-0430-49d7-92f5-ff89da76aca4",
   "metadata": {},
   "source": [
    ">Theory Question"
   ]
  },
  {
   "cell_type": "raw",
   "id": "7258fb1e-9c4e-44b0-b2e2-d5f1217085c7",
   "metadata": {},
   "source": [
    "ANS1 "
   ]
  },
  {
   "cell_type": "markdown",
   "id": "73781d14-0df8-415e-b0a0-ba4d571393e6",
   "metadata": {},
   "source": [
    "- Function: A standalone block of code, defined using def, called directly.\n",
    "- Method: A function defined inside a class, called using an object, with self as its first parameter."
   ]
  },
  {
   "cell_type": "raw",
   "id": "570b3d52-9075-4715-a3db-d7737efa37e9",
   "metadata": {},
   "source": [
    "ANS2"
   ]
  },
  {
   "cell_type": "markdown",
   "id": "abde1d98-42c4-49cf-985d-5324d910d7cd",
   "metadata": {},
   "source": [
    "- Parameters: Variables listed in the function definition that receive values when the function is called.\n",
    "- Arguments: Values passed to the function when calling it, which are assigned to the parameters."
   ]
  },
  {
   "cell_type": "raw",
   "id": "ae3404b1-d861-480c-8f4c-a183207a4192",
   "metadata": {},
   "source": [
    "ANS3"
   ]
  },
  {
   "cell_type": "markdown",
   "id": "0b05e0c2-596a-4c42-a5a7-754a62fef6fa",
   "metadata": {},
   "source": [
    "There are several ways to define and call a function: \n",
    "\n",
    "- Positional Arguments: Pass values in order.\n",
    "- Keyword Arguments: Pass values using parameter names.\n",
    "- Default Arguments: Provide default values for parameters.\n",
    "- Variable-Length Arguments: Use *args for multiple positional and **kwargs for multiple keyword arguments.\n",
    "- Lambda Functions: Anonymous, one-line functions using lambda."
   ]
  },
  {
   "cell_type": "raw",
   "id": "f9652948-cc91-41ae-9b65-9d1e357d789e",
   "metadata": {},
   "source": [
    "ANS4"
   ]
  },
  {
   "cell_type": "markdown",
   "id": "a77795a9-5602-4360-8e53-2702ce5e474b",
   "metadata": {},
   "source": [
    "The return statement in Python is used to send a value from a function back to the caller. It ends the function's execution and provides the result."
   ]
  },
  {
   "cell_type": "raw",
   "id": "091b59db-a7e6-401f-85b3-33710809c8dc",
   "metadata": {},
   "source": [
    "ANS5"
   ]
  },
  {
   "cell_type": "markdown",
   "id": "99cf5a20-7559-4abd-a9ba-1f22d834137b",
   "metadata": {},
   "source": [
    "Iterators are:\n",
    "- **Iterable:** An object that contains multiple elements and can be iterated over using a loop (e.g., lists, tuples, strings). It has an __iter__() method.\n",
    "- **Iterator:** An object that produces values one at a time using the __next__() method. It remembers its state during iteration.\n",
    "\n",
    "**Key Difference:**\n",
    "\n",
    "- Iterable can be converted to an Iterator using iter().\n",
    "- Iterator uses next() to get elements one by one."
   ]
  },
  {
   "cell_type": "raw",
   "id": "ae2cfa3e-697c-418a-a876-f208e985ba45",
   "metadata": {},
   "source": [
    "ANS6"
   ]
  },
  {
   "cell_type": "markdown",
   "id": "d13bdbb0-a3ba-436f-9552-77a917f233d7",
   "metadata": {},
   "source": [
    "Generators in Python are a special type of iterator that generate values lazily, meaning they produce values one at a time as needed using the yield keyword. They are memory-efficient for large datasets.\n",
    "\n",
    "How to Define a Generator\n",
    "\n",
    "- Use a function with the yield keyword instead of return.\n",
    "- Each time yield is called, the function's state is saved.\n",
    "- The function resumes from where it left off on the next call."
   ]
  },
  {
   "cell_type": "raw",
   "id": "c27d937e-c56d-44fc-8fb8-3e4e38071025",
   "metadata": {},
   "source": [
    "ANS7"
   ]
  },
  {
   "cell_type": "markdown",
   "id": "8c839fd6-26ba-46de-a2d9-495965506992",
   "metadata": {},
   "source": [
    "**Advantages of Generators:**  \r\n",
    "- **Memory Efficient:** Generate data one item at a time without storing all values.  \r\n",
    "- **Faster Execution:** Yield results instantly without waiting for full computation.  \r\n",
    "- **State Retention:** Resume from the last `yield` call.  \r\n",
    "- **Readable Code:** Simplifies complex data processing.  \r\n",
    "- **Supports Pipelining:** Efficient for large data streams."
   ]
  },
  {
   "cell_type": "raw",
   "id": "827befee-0759-4c56-b7c4-07eea96f081e",
   "metadata": {},
   "source": [
    "ANS8"
   ]
  },
  {
   "cell_type": "markdown",
   "id": "254b4bb1-27ea-487c-b0c1-54fea39d99f0",
   "metadata": {},
   "source": [
    "A lambda function in Python is a small, anonymous function defined using the lambda keyword. It can have multiple arguments but only one expression.\n",
    "\n",
    "\n",
    "**When to Use:**\n",
    "- For short, simple operations.\n",
    "- As arguments to higher-order functions like map(), filter(), or sorted().\n",
    "- When defining quick, throwaway functions without naming them."
   ]
  },
  {
   "cell_type": "raw",
   "id": "aeeda91f-e553-4c18-9d2c-42f640dfb7cc",
   "metadata": {},
   "source": [
    "ANS9"
   ]
  },
  {
   "cell_type": "markdown",
   "id": "bc219952-a1de-4c4c-b8e7-b165c92c4e05",
   "metadata": {},
   "source": [
    "The map() function in Python applies a specified function to each item of an iterable (like a list or tuple) and returns an iterator with the results.\n",
    "\n",
    "**Purpose and Usage:**\n",
    "- Efficiently apply a function to all elements of an iterable.\n",
    "- Useful for transforming data without using loops.\n",
    "- Works well with lambda functions for concise code."
   ]
  },
  {
   "cell_type": "raw",
   "id": "2fad5236-e5e6-48f6-bef1-f1ad8540a740",
   "metadata": {},
   "source": [
    "ANS10"
   ]
  },
  {
   "cell_type": "markdown",
   "id": "6a03cca0-4e84-4372-b0ab-c1cf40cb8cfb",
   "metadata": {},
   "source": [
    "1. map() → Transform all elements.\n",
    "2. filter() → Select specific elements.\n",
    "3. reduce() → Combine elements into one result."
   ]
  },
  {
   "cell_type": "raw",
   "id": "bf45f2e0-ada6-4283-9b85-55ad9a5bd03b",
   "metadata": {},
   "source": [
    "ANS11"
   ]
  },
  {
   "cell_type": "markdown",
   "id": "b1c1ccaa-e8ea-48ec-9d72-fd820287761d",
   "metadata": {},
   "source": [
    "1.**Step:1**\n",
    "\n",
    "Take the first two elements: 47 and 11.\n",
    "\n",
    "Apply the function:\n",
    "\n",
    "47\n",
    "+\n",
    "11\n",
    "=58\n",
    "\n",
    "2.**Step:2**\n",
    "\n",
    "Take the result from the previous step (58) and the next element (42).\n",
    "\n",
    "Apply the function:\n",
    "\n",
    "58\n",
    "+\n",
    "42\n",
    "=100\n",
    "\n",
    "3.**Step:3**\n",
    "\n",
    "Take the result from the previous step (100) and the last element (13).\n",
    "\n",
    "Apply the function:\n",
    "\n",
    "100\n",
    "+\n",
    "13\n",
    "=113\n",
    "\n",
    "\n",
    "**Final Result:**\n",
    "The sum using reduce() is 113."
   ]
  },
  {
   "cell_type": "markdown",
   "id": "24aaa963-31d8-4e0b-b79a-a5d55d19debe",
   "metadata": {},
   "source": [
    ">Practical Question"
   ]
  },
  {
   "cell_type": "raw",
   "id": "7cdf9acb-5a6d-4d9e-a8fa-befbad57de9c",
   "metadata": {},
   "source": [
    "ANS1"
   ]
  },
  {
   "cell_type": "code",
   "execution_count": 29,
   "id": "a5db0a22-68b2-403e-a176-a75eed5b6391",
   "metadata": {},
   "outputs": [
    {
     "name": "stdout",
     "output_type": "stream",
     "text": [
      "14\n"
     ]
    }
   ],
   "source": [
    "def Sum_of_evennum(lst):\n",
    "    \n",
    "      return sum(num for num in lst if num % 2 == 0)              \n",
    "#main function    \n",
    "numbers_lst = [3,6,8,1,0,9]\n",
    "print(Sum_of_evennum(numbers_lst))"
   ]
  },
  {
   "cell_type": "code",
   "execution_count": null,
   "id": "19793200-b546-4a96-90ec-90808d913f88",
   "metadata": {},
   "outputs": [],
   "source": [
    "ANS2"
   ]
  },
  {
   "cell_type": "code",
   "execution_count": 37,
   "id": "f6ad12bd-4844-4fbc-be05-1a3e57458aae",
   "metadata": {},
   "outputs": [
    {
     "name": "stdout",
     "output_type": "stream",
     "text": [
      "gnirts tupni a esrever ot noitcnuf a si siht\n"
     ]
    }
   ],
   "source": [
    "def reverse_str(string):\n",
    "    print(string[::-1])\n",
    "#main function\n",
    "str1 = \"this is a function to reverse a input string\"\n",
    "reverse_str(str1)"
   ]
  },
  {
   "cell_type": "raw",
   "id": "61e37209-79cc-4393-ae36-4d220cfd2151",
   "metadata": {},
   "source": [
    "ANS3"
   ]
  },
  {
   "cell_type": "code",
   "execution_count": 53,
   "id": "3734cfdd-9ade-476f-b227-3bf1de475a9a",
   "metadata": {},
   "outputs": [
    {
     "name": "stdout",
     "output_type": "stream",
     "text": [
      "orignal list:  [4, 5, 6, 7, 8]\n",
      "squared list:  [16, 25, 36, 49, 64]\n"
     ]
    }
   ],
   "source": [
    "def square(numbers):\n",
    "   return [num**2 for num in numbers]\n",
    "    \n",
    "#main function\n",
    "lst = [4, 5, 6, 7, 8]\n",
    "squared_lst = square(lst)\n",
    "print(\"orignal list: \", lst)\n",
    "print(\"squared list: \", squared_lst)"
   ]
  },
  {
   "cell_type": "raw",
   "id": "9e7b9a3f-becb-4817-b27e-ed5d0e13ef44",
   "metadata": {},
   "source": [
    "ANS4"
   ]
  },
  {
   "cell_type": "code",
   "execution_count": 57,
   "id": "e4b4019f-a7f0-4cb8-8bda-2965eeab8ba9",
   "metadata": {},
   "outputs": [
    {
     "name": "stdout",
     "output_type": "stream",
     "text": [
      "Prime numbers from 1 to 200: [2, 3, 5, 7, 11, 13, 17, 19, 23, 29, 31, 37, 41, 43, 47, 53, 59, 61, 67, 71, 73, 79, 83, 89, 97, 101, 103, 107, 109, 113, 127, 131, 137, 139, 149, 151, 157, 163, 167, 173, 179, 181, 191, 193, 197, 199]\n"
     ]
    }
   ],
   "source": [
    "def is_prime(n):\n",
    "    \"\"\"Check if a number is prime.\"\"\"\n",
    "    if n < 2:\n",
    "        return False\n",
    "    for i in range(2, int(n ** 0.5) + 1):\n",
    "        if n % i == 0:\n",
    "            return False\n",
    "    return True\n",
    "\n",
    "# Check prime numbers from 1 to 200\n",
    "prime_numbers = [num for num in range(1, 201) if is_prime(num)]\n",
    "print(\"Prime numbers from 1 to 200:\", prime_numbers)\n",
    "     "
   ]
  },
  {
   "cell_type": "code",
   "execution_count": null,
   "id": "f77f4c79-3291-42e9-83cc-241042590590",
   "metadata": {},
   "outputs": [],
   "source": [
    "ANS5"
   ]
  },
  {
   "cell_type": "code",
   "execution_count": 1,
   "id": "a5cee0e3-2d64-4f6c-af2b-a200526112cc",
   "metadata": {},
   "outputs": [
    {
     "name": "stdout",
     "output_type": "stream",
     "text": [
      "0\n",
      "1\n",
      "1\n",
      "2\n",
      "3\n",
      "5\n",
      "8\n",
      "13\n",
      "21\n",
      "34\n"
     ]
    }
   ],
   "source": [
    "class FibonacciIterator:\n",
    "    def __init__(self, n_terms):\n",
    "        self.n_terms = n_terms\n",
    "        self.current = 0\n",
    "        self.next = 1\n",
    "        self.count = 0\n",
    "\n",
    "    def __iter__(self):\n",
    "        return self\n",
    "\n",
    "    def __next__(self):\n",
    "        if self.count >= self.n_terms:\n",
    "            raise StopIteration\n",
    "        \n",
    "        value = self.current\n",
    "        self.current, self.next = self.next, self.current + self.next\n",
    "        self.count += 1\n",
    "        return value\n",
    "\n",
    "# main function\n",
    "n = 10  \n",
    "fib_iter = FibonacciIterator(n)\n",
    "for num in fib_iter:\n",
    "    print(num)"
   ]
  },
  {
   "cell_type": "raw",
   "id": "c7f01b14-94b6-406f-97dd-64ea429402f2",
   "metadata": {},
   "source": [
    "ANS6"
   ]
  },
  {
   "cell_type": "code",
   "execution_count": 9,
   "id": "8fafff7a-d632-47b6-9c1b-f3022c1b19ec",
   "metadata": {},
   "outputs": [
    {
     "name": "stdout",
     "output_type": "stream",
     "text": [
      "1\n",
      "2\n",
      "4\n",
      "8\n",
      "16\n",
      "32\n",
      "64\n",
      "128\n",
      "256\n",
      "512\n",
      "1024\n"
     ]
    }
   ],
   "source": [
    "def powerof_2(max_expo):\n",
    "    for expo in range(max_expo + 1):\n",
    "        yield 2 ** expo\n",
    "\n",
    "#main function\n",
    "max_exponent = 10\n",
    "for value in powerof_2(max_exponent):\n",
    "    print(value)"
   ]
  },
  {
   "cell_type": "raw",
   "id": "5b0fa80b-b320-4925-b61d-1e6238011a52",
   "metadata": {},
   "source": [
    "ANS7"
   ]
  },
  {
   "cell_type": "code",
   "execution_count": 28,
   "id": "39ac3649-96bd-4ff5-889f-d8f9c211b3e5",
   "metadata": {},
   "outputs": [
    {
     "name": "stdout",
     "output_type": "stream",
     "text": [
      "▬▬▬▬▬▬▬▬▬▬▬▬▬▬▬▬▬▬ Provided by: STEAMRIP.COM   |   Join our discord for free support and updates: https://discord.gg/WkyjpA3Ua9 ▬▬▬▬▬▬▬▬▬▬▬▬▬▬▬▬▬▬\n",
      "\n",
      "(ALL GAMES ARE PRE-INSTALLED, YOU JUST NEED TO EXRACT AND RUN)\n",
      "\n",
      "HOW TO RUN A GAME:\n",
      "——————————————————————\n",
      "\n",
      "1. Turn OFF your Antivirus and/or Windows Defender before you extract the game. (Exclusion Recommended)\n",
      "\n",
      "2. All the programs in the _CommonRedist folder must be installed to run a game. (If you already have them installed then skip)\n",
      "\n",
      "3. Extract the game in the drive where you want to keep it. (avoid Desktop/OneDrive or C drive in some cases due to permission issues)\n",
      "\n",
      "4. Navigate to the '.exe' file of the game and Run it as an Administrator. (Sometimes it may not be required to run as administrator, but its recommended incase of permissions issue)\n",
      "Note: The exe file will be the game launcher file.\n",
      "\n",
      "5. Its mandatory otherwise it will not run or save progress.\n",
      "\n",
      "——————————————————————————————————————————————————————————————————\n",
      "For more FREE PRE-INSTALLED STEAM GAMES, visit:\t\thttps://steamrip.com/\t(don't trust other links, this is the only official one)\n",
      "For latest news and updates, join our discord: \t\thttps://discord.gg/WkyjpA3Ua9\n"
     ]
    }
   ],
   "source": [
    "def read_file_line_by_line(file_path):\n",
    "   \n",
    "    with open(file_path, 'r', encoding='utf-8') as file:\n",
    "        for line in file:\n",
    "            yield line.strip()\n",
    "\n",
    "# Main function\n",
    "file_path = \"Read_Me_Instructions.txt\" # Replace with your file path\n",
    "for line in read_file_line_by_line(file_path):\n",
    "    print(line)\n"
   ]
  },
  {
   "cell_type": "raw",
   "id": "b75a02f2-94de-45ca-bc92-be8e9cf361da",
   "metadata": {},
   "source": [
    "ANS8"
   ]
  },
  {
   "cell_type": "code",
   "execution_count": 30,
   "id": "dd0fb85d-eff4-4b8c-a785-26cf0bfb1367",
   "metadata": {},
   "outputs": [
    {
     "name": "stdout",
     "output_type": "stream",
     "text": [
      "[(5, 0), (4, 1), (2, 2), (1, 3)]\n"
     ]
    }
   ],
   "source": [
    "# List of tuples\n",
    "data = [(1, 3), (4, 1), (2, 2), (5, 0)]\n",
    "\n",
    "# Sorting based on the second element of each tuple\n",
    "sorted_data = sorted(data, key=lambda x: x[1])\n",
    "\n",
    "print(sorted_data)\n"
   ]
  },
  {
   "cell_type": "raw",
   "id": "b614c679-8dd3-4687-9067-b3a7178cd766",
   "metadata": {},
   "source": [
    "ANS9"
   ]
  },
  {
   "cell_type": "code",
   "execution_count": 32,
   "id": "413357ea-0796-4cf2-b1e4-c14fe323d2bc",
   "metadata": {},
   "outputs": [
    {
     "name": "stdout",
     "output_type": "stream",
     "text": [
      "Temperatures in Fahrenheit: [32.0, 68.0, 98.6, 212.0]\n"
     ]
    }
   ],
   "source": [
    "# List of temperatures in Celsius\n",
    "celsius_temps = [0, 20, 37, 100]\n",
    "\n",
    "# Convert to Fahrenheit using map() and lambda\n",
    "fahrenheit_temps = list(map(lambda c: (c * 9/5) + 32, celsius_temps))\n",
    "\n",
    "# Print the converted temperatures\n",
    "print(f\"Temperatures in Fahrenheit: {fahrenheit_temps}\")"
   ]
  },
  {
   "cell_type": "raw",
   "id": "452b3ff6-63f2-441c-85f1-967716087c8f",
   "metadata": {},
   "source": [
    "ANS10"
   ]
  },
  {
   "cell_type": "code",
   "execution_count": 34,
   "id": "d47dff68-ccf7-426e-bc2f-f801b6646718",
   "metadata": {},
   "outputs": [
    {
     "name": "stdout",
     "output_type": "stream",
     "text": [
      "String without vowels: Hll, Wrld!\n"
     ]
    }
   ],
   "source": [
    "# Input string\n",
    "input_str = \"Hello, World!\"\n",
    "\n",
    "# Define vowels\n",
    "vowels = \"aeiouAEIOU\"\n",
    "\n",
    "# Use filter() to remove vowels\n",
    "filtered_str = \"\".join(filter(lambda char: char not in vowels, input_str))\n",
    "\n",
    "# Print result\n",
    "print(f\"String without vowels: {filtered_str}\")"
   ]
  },
  {
   "cell_type": "raw",
   "id": "768f95b4-ba32-4004-ae9f-0dfb34801daa",
   "metadata": {},
   "source": [
    "ANS11"
   ]
  },
  {
   "cell_type": "code",
   "execution_count": 42,
   "id": "0e6b54f1-eb19-42fe-98ec-45609d470693",
   "metadata": {},
   "outputs": [
    {
     "name": "stdout",
     "output_type": "stream",
     "text": [
      "[(34587, 163.8), (98762, 284.0), (77226, 108.85000000000001), (88112, 84.97)]\n"
     ]
    }
   ],
   "source": [
    "# List of orders: [Order Number, Price per Item, Quantity]\n",
    "orders = [\n",
    "    [34587, 40.95, 4],\n",
    "    [98762, 56.80, 5],\n",
    "    [77226, 32.95, 3],\n",
    "    [88112, 24.99, 3]\n",
    "]\n",
    "\n",
    "# Calculate total price per order with an additional charge if less than 100€\n",
    "calculate_total = lambda order: (order[0], order[1] * order[2] if order[1] * order[2] >= 100 else order[1] * order[2] + 10)\n",
    "\n",
    "# Apply the lambda function using map()\n",
    "final_orders = list(map(calculate_total, orders))\n",
    "\n",
    "# Print the result\n",
    "print(final_orders)\n"
   ]
  },
  {
   "cell_type": "code",
   "execution_count": null,
   "id": "3ec5083d-49be-4258-a777-d0ff4383c245",
   "metadata": {},
   "outputs": [],
   "source": []
  }
 ],
 "metadata": {
  "kernelspec": {
   "display_name": "Python [conda env:base] *",
   "language": "python",
   "name": "conda-base-py"
  },
  "language_info": {
   "codemirror_mode": {
    "name": "ipython",
    "version": 3
   },
   "file_extension": ".py",
   "mimetype": "text/x-python",
   "name": "python",
   "nbconvert_exporter": "python",
   "pygments_lexer": "ipython3",
   "version": "3.12.7"
  }
 },
 "nbformat": 4,
 "nbformat_minor": 5
}
